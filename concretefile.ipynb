{
 "cells": [
  {
   "cell_type": "code",
   "execution_count": 1,
   "id": "a4d2ab28",
   "metadata": {},
   "outputs": [],
   "source": [
    "import numpy as np\n",
    "import pandas as pd\n",
    "import seaborn as sns\n",
    "from matplotlib import pyplot as plt\n",
    "%matplotlib inline\n",
    "from sklearn.model_selection import train_test_split\n",
    "from sklearn.linear_model import LinearRegression\n"
   ]
  },
  {
   "cell_type": "code",
   "execution_count": 2,
   "id": "cd8285bf",
   "metadata": {},
   "outputs": [
    {
     "data": {
      "text/html": [
       "<div>\n",
       "<style scoped>\n",
       "    .dataframe tbody tr th:only-of-type {\n",
       "        vertical-align: middle;\n",
       "    }\n",
       "\n",
       "    .dataframe tbody tr th {\n",
       "        vertical-align: top;\n",
       "    }\n",
       "\n",
       "    .dataframe thead th {\n",
       "        text-align: right;\n",
       "    }\n",
       "</style>\n",
       "<table border=\"1\" class=\"dataframe\">\n",
       "  <thead>\n",
       "    <tr style=\"text-align: right;\">\n",
       "      <th></th>\n",
       "      <th>cement</th>\n",
       "      <th>slag</th>\n",
       "      <th>ash</th>\n",
       "      <th>water</th>\n",
       "      <th>superplastic</th>\n",
       "      <th>coarseagg</th>\n",
       "      <th>fineagg</th>\n",
       "      <th>age</th>\n",
       "      <th>strength</th>\n",
       "    </tr>\n",
       "  </thead>\n",
       "  <tbody>\n",
       "    <tr>\n",
       "      <th>0</th>\n",
       "      <td>141.3</td>\n",
       "      <td>212.0</td>\n",
       "      <td>0.0</td>\n",
       "      <td>203.5</td>\n",
       "      <td>0.0</td>\n",
       "      <td>971.8</td>\n",
       "      <td>748.5</td>\n",
       "      <td>28</td>\n",
       "      <td>29.89</td>\n",
       "    </tr>\n",
       "    <tr>\n",
       "      <th>1</th>\n",
       "      <td>168.9</td>\n",
       "      <td>42.2</td>\n",
       "      <td>124.3</td>\n",
       "      <td>158.3</td>\n",
       "      <td>10.8</td>\n",
       "      <td>1080.8</td>\n",
       "      <td>796.2</td>\n",
       "      <td>14</td>\n",
       "      <td>23.51</td>\n",
       "    </tr>\n",
       "    <tr>\n",
       "      <th>2</th>\n",
       "      <td>250.0</td>\n",
       "      <td>0.0</td>\n",
       "      <td>95.7</td>\n",
       "      <td>187.4</td>\n",
       "      <td>5.5</td>\n",
       "      <td>956.9</td>\n",
       "      <td>861.2</td>\n",
       "      <td>28</td>\n",
       "      <td>29.22</td>\n",
       "    </tr>\n",
       "    <tr>\n",
       "      <th>3</th>\n",
       "      <td>266.0</td>\n",
       "      <td>114.0</td>\n",
       "      <td>0.0</td>\n",
       "      <td>228.0</td>\n",
       "      <td>0.0</td>\n",
       "      <td>932.0</td>\n",
       "      <td>670.0</td>\n",
       "      <td>28</td>\n",
       "      <td>45.85</td>\n",
       "    </tr>\n",
       "    <tr>\n",
       "      <th>4</th>\n",
       "      <td>154.8</td>\n",
       "      <td>183.4</td>\n",
       "      <td>0.0</td>\n",
       "      <td>193.3</td>\n",
       "      <td>9.1</td>\n",
       "      <td>1047.4</td>\n",
       "      <td>696.7</td>\n",
       "      <td>28</td>\n",
       "      <td>18.29</td>\n",
       "    </tr>\n",
       "    <tr>\n",
       "      <th>5</th>\n",
       "      <td>255.0</td>\n",
       "      <td>0.0</td>\n",
       "      <td>0.0</td>\n",
       "      <td>192.0</td>\n",
       "      <td>0.0</td>\n",
       "      <td>889.8</td>\n",
       "      <td>945.0</td>\n",
       "      <td>90</td>\n",
       "      <td>21.86</td>\n",
       "    </tr>\n",
       "    <tr>\n",
       "      <th>6</th>\n",
       "      <td>166.8</td>\n",
       "      <td>250.2</td>\n",
       "      <td>0.0</td>\n",
       "      <td>203.5</td>\n",
       "      <td>0.0</td>\n",
       "      <td>975.6</td>\n",
       "      <td>692.6</td>\n",
       "      <td>7</td>\n",
       "      <td>15.75</td>\n",
       "    </tr>\n",
       "    <tr>\n",
       "      <th>7</th>\n",
       "      <td>251.4</td>\n",
       "      <td>0.0</td>\n",
       "      <td>118.3</td>\n",
       "      <td>188.5</td>\n",
       "      <td>6.4</td>\n",
       "      <td>1028.4</td>\n",
       "      <td>757.7</td>\n",
       "      <td>56</td>\n",
       "      <td>36.64</td>\n",
       "    </tr>\n",
       "    <tr>\n",
       "      <th>8</th>\n",
       "      <td>296.0</td>\n",
       "      <td>0.0</td>\n",
       "      <td>0.0</td>\n",
       "      <td>192.0</td>\n",
       "      <td>0.0</td>\n",
       "      <td>1085.0</td>\n",
       "      <td>765.0</td>\n",
       "      <td>28</td>\n",
       "      <td>21.65</td>\n",
       "    </tr>\n",
       "    <tr>\n",
       "      <th>9</th>\n",
       "      <td>155.0</td>\n",
       "      <td>184.0</td>\n",
       "      <td>143.0</td>\n",
       "      <td>194.0</td>\n",
       "      <td>9.0</td>\n",
       "      <td>880.0</td>\n",
       "      <td>699.0</td>\n",
       "      <td>28</td>\n",
       "      <td>28.99</td>\n",
       "    </tr>\n",
       "  </tbody>\n",
       "</table>\n",
       "</div>"
      ],
      "text/plain": [
       "   cement   slag    ash  water  superplastic  coarseagg  fineagg  age  \\\n",
       "0   141.3  212.0    0.0  203.5           0.0      971.8    748.5   28   \n",
       "1   168.9   42.2  124.3  158.3          10.8     1080.8    796.2   14   \n",
       "2   250.0    0.0   95.7  187.4           5.5      956.9    861.2   28   \n",
       "3   266.0  114.0    0.0  228.0           0.0      932.0    670.0   28   \n",
       "4   154.8  183.4    0.0  193.3           9.1     1047.4    696.7   28   \n",
       "5   255.0    0.0    0.0  192.0           0.0      889.8    945.0   90   \n",
       "6   166.8  250.2    0.0  203.5           0.0      975.6    692.6    7   \n",
       "7   251.4    0.0  118.3  188.5           6.4     1028.4    757.7   56   \n",
       "8   296.0    0.0    0.0  192.0           0.0     1085.0    765.0   28   \n",
       "9   155.0  184.0  143.0  194.0           9.0      880.0    699.0   28   \n",
       "\n",
       "   strength  \n",
       "0     29.89  \n",
       "1     23.51  \n",
       "2     29.22  \n",
       "3     45.85  \n",
       "4     18.29  \n",
       "5     21.86  \n",
       "6     15.75  \n",
       "7     36.64  \n",
       "8     21.65  \n",
       "9     28.99  "
      ]
     },
     "execution_count": 2,
     "metadata": {},
     "output_type": "execute_result"
    }
   ],
   "source": [
    "df2=pd.read_csv(\"https://raw.githubusercontent.com/Premalatha-success/NIIT-Batch/main/concrete.csv\")\n",
    "df2.head(10)"
   ]
  },
  {
   "cell_type": "code",
   "execution_count": 3,
   "id": "f8bf5cce",
   "metadata": {},
   "outputs": [
    {
     "data": {
      "text/plain": [
       "(1030, 9)"
      ]
     },
     "execution_count": 3,
     "metadata": {},
     "output_type": "execute_result"
    }
   ],
   "source": [
    "df2.shape"
   ]
  },
  {
   "cell_type": "code",
   "execution_count": 4,
   "id": "c52b6d4a",
   "metadata": {},
   "outputs": [
    {
     "data": {
      "text/plain": [
       "(1, 0)"
      ]
     },
     "execution_count": 4,
     "metadata": {},
     "output_type": "execute_result"
    }
   ],
   "source": [
    "np.shape(np.where(df2['cement']==0))"
   ]
  },
  {
   "cell_type": "code",
   "execution_count": 5,
   "id": "4811790f",
   "metadata": {},
   "outputs": [
    {
     "data": {
      "text/plain": [
       "(1, 471)"
      ]
     },
     "execution_count": 5,
     "metadata": {},
     "output_type": "execute_result"
    }
   ],
   "source": [
    "np.shape(np.where(df2['slag']==0))"
   ]
  },
  {
   "cell_type": "code",
   "execution_count": 6,
   "id": "7fb5a09c",
   "metadata": {},
   "outputs": [
    {
     "data": {
      "text/plain": [
       "(1, 566)"
      ]
     },
     "execution_count": 6,
     "metadata": {},
     "output_type": "execute_result"
    }
   ],
   "source": [
    "np.shape(np.where(df2['ash']==0))"
   ]
  },
  {
   "cell_type": "code",
   "execution_count": 7,
   "id": "4d5bb52d",
   "metadata": {},
   "outputs": [
    {
     "data": {
      "text/plain": [
       "(1, 0)"
      ]
     },
     "execution_count": 7,
     "metadata": {},
     "output_type": "execute_result"
    }
   ],
   "source": [
    "np.shape(np.where(df2['water']==0))"
   ]
  },
  {
   "cell_type": "code",
   "execution_count": 8,
   "id": "7c081e15",
   "metadata": {},
   "outputs": [
    {
     "data": {
      "text/plain": [
       "(1, 379)"
      ]
     },
     "execution_count": 8,
     "metadata": {},
     "output_type": "execute_result"
    }
   ],
   "source": [
    "np.shape(np.where(df2['superplastic']==0))"
   ]
  },
  {
   "cell_type": "code",
   "execution_count": 9,
   "id": "6d5adfac",
   "metadata": {},
   "outputs": [
    {
     "data": {
      "text/plain": [
       "(1, 0)"
      ]
     },
     "execution_count": 9,
     "metadata": {},
     "output_type": "execute_result"
    }
   ],
   "source": [
    "np.shape(np.where(df2['coarseagg']==0))"
   ]
  },
  {
   "cell_type": "code",
   "execution_count": 10,
   "id": "ae008e70",
   "metadata": {},
   "outputs": [
    {
     "data": {
      "text/plain": [
       "(1, 0)"
      ]
     },
     "execution_count": 10,
     "metadata": {},
     "output_type": "execute_result"
    }
   ],
   "source": [
    "np.shape(np.where(df2['fineagg']==0))"
   ]
  },
  {
   "cell_type": "code",
   "execution_count": 11,
   "id": "51e96a7b",
   "metadata": {},
   "outputs": [
    {
     "data": {
      "text/plain": [
       "(1, 0)"
      ]
     },
     "execution_count": 11,
     "metadata": {},
     "output_type": "execute_result"
    }
   ],
   "source": [
    "np.shape(np.where(df2['age']==0))"
   ]
  },
  {
   "cell_type": "code",
   "execution_count": 12,
   "id": "4cd97203",
   "metadata": {},
   "outputs": [
    {
     "data": {
      "text/plain": [
       "(1, 0)"
      ]
     },
     "execution_count": 12,
     "metadata": {},
     "output_type": "execute_result"
    }
   ],
   "source": [
    "np.shape(np.where(df2['strength']==0))"
   ]
  },
  {
   "cell_type": "code",
   "execution_count": 13,
   "id": "d28c8375",
   "metadata": {},
   "outputs": [
    {
     "data": {
      "text/plain": [
       "281.1678640776698"
      ]
     },
     "execution_count": 13,
     "metadata": {},
     "output_type": "execute_result"
    }
   ],
   "source": [
    "a=0\n",
    "b=0\n",
    "for i in df2.cement:\n",
    "    if i!=0:\n",
    "        a=a+i\n",
    "        b=b+1\n",
    "mean_c=a/b\n",
    "mean_c\n"
   ]
  },
  {
   "cell_type": "code",
   "execution_count": 14,
   "id": "d8d9ddfb",
   "metadata": {},
   "outputs": [
    {
     "data": {
      "text/plain": [
       "136.15867620751342"
      ]
     },
     "execution_count": 14,
     "metadata": {},
     "output_type": "execute_result"
    }
   ],
   "source": [
    "a=0\n",
    "b=0\n",
    "for i in df2.slag:\n",
    "    if i!=0:\n",
    "        a=a+i\n",
    "        b=b+1\n",
    "mean_s=a/b\n",
    "mean_s\n"
   ]
  },
  {
   "cell_type": "code",
   "execution_count": 15,
   "id": "58836867",
   "metadata": {},
   "outputs": [
    {
     "data": {
      "text/plain": [
       "120.28879310344823"
      ]
     },
     "execution_count": 15,
     "metadata": {},
     "output_type": "execute_result"
    }
   ],
   "source": [
    "a=0\n",
    "b=0\n",
    "for i in df2.ash:\n",
    "    if i!=0:\n",
    "        a=a+i\n",
    "        b=b+1\n",
    "mean_a=a/b\n",
    "mean_a\n"
   ]
  },
  {
   "cell_type": "code",
   "execution_count": 16,
   "id": "ec302494",
   "metadata": {},
   "outputs": [
    {
     "data": {
      "text/plain": [
       "9.816897081413208"
      ]
     },
     "execution_count": 16,
     "metadata": {},
     "output_type": "execute_result"
    }
   ],
   "source": [
    "a=0\n",
    "b=0\n",
    "for i in df2.superplastic:\n",
    "    if i!=0:\n",
    "        a=a+i\n",
    "        b=b+1\n",
    "mean_sp=a/b\n",
    "mean_sp\n"
   ]
  },
  {
   "cell_type": "code",
   "execution_count": 17,
   "id": "d3af5f14",
   "metadata": {},
   "outputs": [],
   "source": [
    "df2['slag'].replace(0 , mean_s, inplace=True)\n",
    "df2['ash'].replace(0 , mean_a, inplace=True)\n",
    "df2['superplastic'].replace(0, mean_sp, inplace=True)"
   ]
  },
  {
   "cell_type": "code",
   "execution_count": 18,
   "id": "12f7cc42",
   "metadata": {},
   "outputs": [
    {
     "data": {
      "text/html": [
       "<div>\n",
       "<style scoped>\n",
       "    .dataframe tbody tr th:only-of-type {\n",
       "        vertical-align: middle;\n",
       "    }\n",
       "\n",
       "    .dataframe tbody tr th {\n",
       "        vertical-align: top;\n",
       "    }\n",
       "\n",
       "    .dataframe thead th {\n",
       "        text-align: right;\n",
       "    }\n",
       "</style>\n",
       "<table border=\"1\" class=\"dataframe\">\n",
       "  <thead>\n",
       "    <tr style=\"text-align: right;\">\n",
       "      <th></th>\n",
       "      <th>cement</th>\n",
       "      <th>slag</th>\n",
       "      <th>ash</th>\n",
       "      <th>water</th>\n",
       "      <th>superplastic</th>\n",
       "      <th>coarseagg</th>\n",
       "      <th>fineagg</th>\n",
       "      <th>age</th>\n",
       "      <th>strength</th>\n",
       "    </tr>\n",
       "  </thead>\n",
       "  <tbody>\n",
       "    <tr>\n",
       "      <th>0</th>\n",
       "      <td>141.3</td>\n",
       "      <td>212.000000</td>\n",
       "      <td>120.288793</td>\n",
       "      <td>203.5</td>\n",
       "      <td>9.816897</td>\n",
       "      <td>971.8</td>\n",
       "      <td>748.5</td>\n",
       "      <td>28</td>\n",
       "      <td>29.89</td>\n",
       "    </tr>\n",
       "    <tr>\n",
       "      <th>1</th>\n",
       "      <td>168.9</td>\n",
       "      <td>42.200000</td>\n",
       "      <td>124.300000</td>\n",
       "      <td>158.3</td>\n",
       "      <td>10.800000</td>\n",
       "      <td>1080.8</td>\n",
       "      <td>796.2</td>\n",
       "      <td>14</td>\n",
       "      <td>23.51</td>\n",
       "    </tr>\n",
       "    <tr>\n",
       "      <th>2</th>\n",
       "      <td>250.0</td>\n",
       "      <td>136.158676</td>\n",
       "      <td>95.700000</td>\n",
       "      <td>187.4</td>\n",
       "      <td>5.500000</td>\n",
       "      <td>956.9</td>\n",
       "      <td>861.2</td>\n",
       "      <td>28</td>\n",
       "      <td>29.22</td>\n",
       "    </tr>\n",
       "    <tr>\n",
       "      <th>3</th>\n",
       "      <td>266.0</td>\n",
       "      <td>114.000000</td>\n",
       "      <td>120.288793</td>\n",
       "      <td>228.0</td>\n",
       "      <td>9.816897</td>\n",
       "      <td>932.0</td>\n",
       "      <td>670.0</td>\n",
       "      <td>28</td>\n",
       "      <td>45.85</td>\n",
       "    </tr>\n",
       "    <tr>\n",
       "      <th>4</th>\n",
       "      <td>154.8</td>\n",
       "      <td>183.400000</td>\n",
       "      <td>120.288793</td>\n",
       "      <td>193.3</td>\n",
       "      <td>9.100000</td>\n",
       "      <td>1047.4</td>\n",
       "      <td>696.7</td>\n",
       "      <td>28</td>\n",
       "      <td>18.29</td>\n",
       "    </tr>\n",
       "    <tr>\n",
       "      <th>5</th>\n",
       "      <td>255.0</td>\n",
       "      <td>136.158676</td>\n",
       "      <td>120.288793</td>\n",
       "      <td>192.0</td>\n",
       "      <td>9.816897</td>\n",
       "      <td>889.8</td>\n",
       "      <td>945.0</td>\n",
       "      <td>90</td>\n",
       "      <td>21.86</td>\n",
       "    </tr>\n",
       "    <tr>\n",
       "      <th>6</th>\n",
       "      <td>166.8</td>\n",
       "      <td>250.200000</td>\n",
       "      <td>120.288793</td>\n",
       "      <td>203.5</td>\n",
       "      <td>9.816897</td>\n",
       "      <td>975.6</td>\n",
       "      <td>692.6</td>\n",
       "      <td>7</td>\n",
       "      <td>15.75</td>\n",
       "    </tr>\n",
       "    <tr>\n",
       "      <th>7</th>\n",
       "      <td>251.4</td>\n",
       "      <td>136.158676</td>\n",
       "      <td>118.300000</td>\n",
       "      <td>188.5</td>\n",
       "      <td>6.400000</td>\n",
       "      <td>1028.4</td>\n",
       "      <td>757.7</td>\n",
       "      <td>56</td>\n",
       "      <td>36.64</td>\n",
       "    </tr>\n",
       "    <tr>\n",
       "      <th>8</th>\n",
       "      <td>296.0</td>\n",
       "      <td>136.158676</td>\n",
       "      <td>120.288793</td>\n",
       "      <td>192.0</td>\n",
       "      <td>9.816897</td>\n",
       "      <td>1085.0</td>\n",
       "      <td>765.0</td>\n",
       "      <td>28</td>\n",
       "      <td>21.65</td>\n",
       "    </tr>\n",
       "    <tr>\n",
       "      <th>9</th>\n",
       "      <td>155.0</td>\n",
       "      <td>184.000000</td>\n",
       "      <td>143.000000</td>\n",
       "      <td>194.0</td>\n",
       "      <td>9.000000</td>\n",
       "      <td>880.0</td>\n",
       "      <td>699.0</td>\n",
       "      <td>28</td>\n",
       "      <td>28.99</td>\n",
       "    </tr>\n",
       "  </tbody>\n",
       "</table>\n",
       "</div>"
      ],
      "text/plain": [
       "   cement        slag         ash  water  superplastic  coarseagg  fineagg  \\\n",
       "0   141.3  212.000000  120.288793  203.5      9.816897      971.8    748.5   \n",
       "1   168.9   42.200000  124.300000  158.3     10.800000     1080.8    796.2   \n",
       "2   250.0  136.158676   95.700000  187.4      5.500000      956.9    861.2   \n",
       "3   266.0  114.000000  120.288793  228.0      9.816897      932.0    670.0   \n",
       "4   154.8  183.400000  120.288793  193.3      9.100000     1047.4    696.7   \n",
       "5   255.0  136.158676  120.288793  192.0      9.816897      889.8    945.0   \n",
       "6   166.8  250.200000  120.288793  203.5      9.816897      975.6    692.6   \n",
       "7   251.4  136.158676  118.300000  188.5      6.400000     1028.4    757.7   \n",
       "8   296.0  136.158676  120.288793  192.0      9.816897     1085.0    765.0   \n",
       "9   155.0  184.000000  143.000000  194.0      9.000000      880.0    699.0   \n",
       "\n",
       "   age  strength  \n",
       "0   28     29.89  \n",
       "1   14     23.51  \n",
       "2   28     29.22  \n",
       "3   28     45.85  \n",
       "4   28     18.29  \n",
       "5   90     21.86  \n",
       "6    7     15.75  \n",
       "7   56     36.64  \n",
       "8   28     21.65  \n",
       "9   28     28.99  "
      ]
     },
     "execution_count": 18,
     "metadata": {},
     "output_type": "execute_result"
    }
   ],
   "source": [
    "df2.head(10)"
   ]
  },
  {
   "cell_type": "code",
   "execution_count": 19,
   "id": "bf2b3b3b",
   "metadata": {},
   "outputs": [
    {
     "data": {
      "text/plain": [
       "25"
      ]
     },
     "execution_count": 19,
     "metadata": {},
     "output_type": "execute_result"
    }
   ],
   "source": [
    "duplicate = df2.duplicated()\n",
    "duplicate.sum()"
   ]
  },
  {
   "cell_type": "code",
   "execution_count": 20,
   "id": "2a732fa4",
   "metadata": {},
   "outputs": [],
   "source": [
    "df2.drop_duplicates(inplace=True)"
   ]
  },
  {
   "cell_type": "code",
   "execution_count": 21,
   "id": "75ab6711",
   "metadata": {},
   "outputs": [],
   "source": [
    "x = df2.drop(['strength'],axis=1)\n",
    "y = df2[['strength']]"
   ]
  },
  {
   "cell_type": "code",
   "execution_count": 22,
   "id": "536dcd2e",
   "metadata": {},
   "outputs": [],
   "source": [
    "from sklearn.model_selection import train_test_split"
   ]
  },
  {
   "cell_type": "code",
   "execution_count": 23,
   "id": "6df4a8d3",
   "metadata": {},
   "outputs": [],
   "source": [
    "x_train, x_test, y_train, y_test = train_test_split(x,y,test_size = 0.3, random_state = 1)"
   ]
  },
  {
   "cell_type": "code",
   "execution_count": 24,
   "id": "4d0d732a",
   "metadata": {},
   "outputs": [
    {
     "data": {
      "text/plain": [
       "LinearRegression()"
      ]
     },
     "execution_count": 24,
     "metadata": {},
     "output_type": "execute_result"
    }
   ],
   "source": [
    "model_1=LinearRegression()\n",
    "model_1.fit(x_train,y_train)"
   ]
  },
  {
   "cell_type": "code",
   "execution_count": 25,
   "id": "e475c1ee",
   "metadata": {},
   "outputs": [
    {
     "data": {
      "text/plain": [
       "0.6081921443964382"
      ]
     },
     "execution_count": 25,
     "metadata": {},
     "output_type": "execute_result"
    }
   ],
   "source": [
    "model_1.score(x_train,y_train)"
   ]
  },
  {
   "cell_type": "code",
   "execution_count": 26,
   "id": "ec77ee7a",
   "metadata": {},
   "outputs": [
    {
     "data": {
      "text/plain": [
       "0.5543423032065518"
      ]
     },
     "execution_count": 26,
     "metadata": {},
     "output_type": "execute_result"
    }
   ],
   "source": [
    "model_1.score(x_test,y_test)"
   ]
  },
  {
   "cell_type": "code",
   "execution_count": 27,
   "id": "7721f3a1",
   "metadata": {},
   "outputs": [],
   "source": [
    "from sklearn.tree import DecisionTreeRegressor"
   ]
  },
  {
   "cell_type": "code",
   "execution_count": 28,
   "id": "ec184f0f",
   "metadata": {},
   "outputs": [
    {
     "data": {
      "text/plain": [
       "DecisionTreeRegressor(max_depth=5)"
      ]
     },
     "execution_count": 28,
     "metadata": {},
     "output_type": "execute_result"
    }
   ],
   "source": [
    "model_2 = DecisionTreeRegressor(max_depth=5)\n",
    "model_2.fit(x_train,y_train)"
   ]
  },
  {
   "cell_type": "code",
   "execution_count": 29,
   "id": "4515ce45",
   "metadata": {},
   "outputs": [
    {
     "data": {
      "text/plain": [
       "0.826256087186334"
      ]
     },
     "execution_count": 29,
     "metadata": {},
     "output_type": "execute_result"
    }
   ],
   "source": [
    "model_2.score(x_train,y_train)"
   ]
  },
  {
   "cell_type": "code",
   "execution_count": 30,
   "id": "27b9d996",
   "metadata": {},
   "outputs": [
    {
     "data": {
      "text/plain": [
       "0.6740848877822093"
      ]
     },
     "execution_count": 30,
     "metadata": {},
     "output_type": "execute_result"
    }
   ],
   "source": [
    "model_2.score(x_test,y_test)"
   ]
  },
  {
   "cell_type": "code",
   "execution_count": 31,
   "id": "d0085b6e",
   "metadata": {},
   "outputs": [],
   "source": [
    "from sklearn.neighbors import KNeighborsRegressor"
   ]
  },
  {
   "cell_type": "code",
   "execution_count": 32,
   "id": "d8137383",
   "metadata": {},
   "outputs": [
    {
     "data": {
      "text/plain": [
       "KNeighborsRegressor(n_neighbors=21)"
      ]
     },
     "execution_count": 32,
     "metadata": {},
     "output_type": "execute_result"
    }
   ],
   "source": [
    "model_3 = KNeighborsRegressor(n_neighbors = 21)\n",
    "model_3.fit(x_train,y_train)"
   ]
  },
  {
   "cell_type": "code",
   "execution_count": 33,
   "id": "edfa2e7d",
   "metadata": {},
   "outputs": [
    {
     "data": {
      "text/plain": [
       "0.5994202219829982"
      ]
     },
     "execution_count": 33,
     "metadata": {},
     "output_type": "execute_result"
    }
   ],
   "source": [
    "model_3.score(x_train,y_train)"
   ]
  },
  {
   "cell_type": "code",
   "execution_count": 34,
   "id": "be3a1290",
   "metadata": {},
   "outputs": [
    {
     "data": {
      "text/plain": [
       "0.45657083395634135"
      ]
     },
     "execution_count": 34,
     "metadata": {},
     "output_type": "execute_result"
    }
   ],
   "source": [
    "model_3.score(x_test,y_test)"
   ]
  },
  {
   "cell_type": "code",
   "execution_count": 35,
   "id": "22813eaf",
   "metadata": {},
   "outputs": [],
   "source": [
    "from sklearn.svm import SVR"
   ]
  },
  {
   "cell_type": "code",
   "execution_count": 36,
   "id": "0964439c",
   "metadata": {},
   "outputs": [],
   "source": [
    "import warnings\n",
    "warnings.filterwarnings('ignore')"
   ]
  },
  {
   "cell_type": "code",
   "execution_count": 37,
   "id": "f8f0e6b2",
   "metadata": {},
   "outputs": [
    {
     "data": {
      "text/plain": [
       "SVR(C=2.0, kernel='linear')"
      ]
     },
     "execution_count": 37,
     "metadata": {},
     "output_type": "execute_result"
    }
   ],
   "source": [
    "model_4 = SVR(kernel = 'linear', C=2.0)\n",
    "model_4.fit(x_train,y_train)"
   ]
  },
  {
   "cell_type": "code",
   "execution_count": 38,
   "id": "79608c26",
   "metadata": {},
   "outputs": [
    {
     "data": {
      "text/plain": [
       "0.5783118997596226"
      ]
     },
     "execution_count": 38,
     "metadata": {},
     "output_type": "execute_result"
    }
   ],
   "source": [
    "model_4.score(x_train,y_train)"
   ]
  },
  {
   "cell_type": "code",
   "execution_count": 39,
   "id": "68338a55",
   "metadata": {},
   "outputs": [
    {
     "data": {
      "text/plain": [
       "0.5288150033780853"
      ]
     },
     "execution_count": 39,
     "metadata": {},
     "output_type": "execute_result"
    }
   ],
   "source": [
    "model_4.score(x_test,y_test)"
   ]
  },
  {
   "cell_type": "code",
   "execution_count": 40,
   "id": "723668ef",
   "metadata": {},
   "outputs": [],
   "source": [
    "from sklearn.ensemble import BaggingRegressor"
   ]
  },
  {
   "cell_type": "code",
   "execution_count": 41,
   "id": "c7c8bbe5",
   "metadata": {},
   "outputs": [
    {
     "data": {
      "text/plain": [
       "BaggingRegressor(base_estimator=DecisionTreeRegressor(max_depth=5))"
      ]
     },
     "execution_count": 41,
     "metadata": {},
     "output_type": "execute_result"
    }
   ],
   "source": [
    "model_5 = BaggingRegressor(n_estimators = 10, base_estimator = model_2)\n",
    "model_5.fit(x_train,y_train)"
   ]
  },
  {
   "cell_type": "code",
   "execution_count": 42,
   "id": "4786a0e8",
   "metadata": {},
   "outputs": [
    {
     "data": {
      "text/plain": [
       "0.8562373973605647"
      ]
     },
     "execution_count": 42,
     "metadata": {},
     "output_type": "execute_result"
    }
   ],
   "source": [
    "model_5.score(x_train,y_train)"
   ]
  },
  {
   "cell_type": "code",
   "execution_count": 43,
   "id": "d6f3312a",
   "metadata": {},
   "outputs": [
    {
     "data": {
      "text/plain": [
       "0.7691586733291204"
      ]
     },
     "execution_count": 43,
     "metadata": {},
     "output_type": "execute_result"
    }
   ],
   "source": [
    "model_5.score(x_test,y_test)"
   ]
  },
  {
   "cell_type": "code",
   "execution_count": 44,
   "id": "2d957688",
   "metadata": {},
   "outputs": [],
   "source": [
    "from sklearn.ensemble import AdaBoostRegressor"
   ]
  },
  {
   "cell_type": "code",
   "execution_count": 56,
   "id": "b089a3ec",
   "metadata": {},
   "outputs": [
    {
     "data": {
      "text/plain": [
       "AdaBoostRegressor()"
      ]
     },
     "execution_count": 56,
     "metadata": {},
     "output_type": "execute_result"
    }
   ],
   "source": [
    "model_6 = AdaBoostRegressor(n_estimators = 50, learning_rate = 1.0)\n",
    "model_6.fit(x_train,y_train)"
   ]
  },
  {
   "cell_type": "code",
   "execution_count": 57,
   "id": "d88569f8",
   "metadata": {},
   "outputs": [
    {
     "data": {
      "text/plain": [
       "0.7885082641699435"
      ]
     },
     "execution_count": 57,
     "metadata": {},
     "output_type": "execute_result"
    }
   ],
   "source": [
    "model_6.score(x_train,y_train)"
   ]
  },
  {
   "cell_type": "code",
   "execution_count": 58,
   "id": "2a24e2fb",
   "metadata": {},
   "outputs": [
    {
     "data": {
      "text/plain": [
       "0.7232895516951806"
      ]
     },
     "execution_count": 58,
     "metadata": {},
     "output_type": "execute_result"
    }
   ],
   "source": [
    "model_6.score(x_test,y_test)"
   ]
  },
  {
   "cell_type": "code",
   "execution_count": 48,
   "id": "c8fb55be",
   "metadata": {},
   "outputs": [],
   "source": [
    "from sklearn.ensemble import GradientBoostingRegressor"
   ]
  },
  {
   "cell_type": "code",
   "execution_count": 49,
   "id": "7d4e69ad",
   "metadata": {},
   "outputs": [
    {
     "data": {
      "text/plain": [
       "GradientBoostingRegressor(n_estimators=36)"
      ]
     },
     "execution_count": 49,
     "metadata": {},
     "output_type": "execute_result"
    }
   ],
   "source": [
    "model_7 = GradientBoostingRegressor(n_estimators = 36)\n",
    "model_7.fit(x_train,y_train)"
   ]
  },
  {
   "cell_type": "code",
   "execution_count": 50,
   "id": "6e6f1b43",
   "metadata": {},
   "outputs": [
    {
     "data": {
      "text/plain": [
       "0.873593157850825"
      ]
     },
     "execution_count": 50,
     "metadata": {},
     "output_type": "execute_result"
    }
   ],
   "source": [
    "model_7.score(x_train,y_train)"
   ]
  },
  {
   "cell_type": "code",
   "execution_count": 51,
   "id": "286a14c6",
   "metadata": {},
   "outputs": [
    {
     "data": {
      "text/plain": [
       "0.8119029993807949"
      ]
     },
     "execution_count": 51,
     "metadata": {},
     "output_type": "execute_result"
    }
   ],
   "source": [
    "model_7.score(x_test,y_test)"
   ]
  },
  {
   "cell_type": "code",
   "execution_count": 52,
   "id": "422e39db",
   "metadata": {},
   "outputs": [],
   "source": [
    "from sklearn.ensemble import RandomForestRegressor"
   ]
  },
  {
   "cell_type": "code",
   "execution_count": 53,
   "id": "2ed58dff",
   "metadata": {},
   "outputs": [
    {
     "data": {
      "text/plain": [
       "RandomForestRegressor(max_depth=4)"
      ]
     },
     "execution_count": 53,
     "metadata": {},
     "output_type": "execute_result"
    }
   ],
   "source": [
    "model_8 = RandomForestRegressor(n_estimators=100, max_depth = 4)\n",
    "model_8.fit(x_train,y_train)"
   ]
  },
  {
   "cell_type": "code",
   "execution_count": 54,
   "id": "b3d4c70b",
   "metadata": {},
   "outputs": [
    {
     "data": {
      "text/plain": [
       "0.8085723062602941"
      ]
     },
     "execution_count": 54,
     "metadata": {},
     "output_type": "execute_result"
    }
   ],
   "source": [
    "model_8.score(x_train,y_train)"
   ]
  },
  {
   "cell_type": "code",
   "execution_count": 55,
   "id": "a5294f45",
   "metadata": {},
   "outputs": [
    {
     "data": {
      "text/plain": [
       "0.7168977326135053"
      ]
     },
     "execution_count": 55,
     "metadata": {},
     "output_type": "execute_result"
    }
   ],
   "source": [
    "model_8.score(x_test,y_test)"
   ]
  },
  {
   "cell_type": "code",
   "execution_count": null,
   "id": "4129fc50",
   "metadata": {},
   "outputs": [],
   "source": []
  }
 ],
 "metadata": {
  "kernelspec": {
   "display_name": "Python 3 (ipykernel)",
   "language": "python",
   "name": "python3"
  },
  "language_info": {
   "codemirror_mode": {
    "name": "ipython",
    "version": 3
   },
   "file_extension": ".py",
   "mimetype": "text/x-python",
   "name": "python",
   "nbconvert_exporter": "python",
   "pygments_lexer": "ipython3",
   "version": "3.9.12"
  }
 },
 "nbformat": 4,
 "nbformat_minor": 5
}
